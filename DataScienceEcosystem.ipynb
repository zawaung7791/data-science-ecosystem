{
 "cells": [
  {
   "cell_type": "markdown",
   "id": "d5b7124d-71e0-4397-8449-430a9d824122",
   "metadata": {},
   "source": [
    "# Data Science Tools and Ecosystem"
   ]
  },
  {
   "cell_type": "markdown",
   "id": "21e63cd5-4590-40d9-8c13-dc2f2373ff5f",
   "metadata": {},
   "source": [
    "## Author\n",
    "Zaw Win Aung"
   ]
  },
  {
   "cell_type": "markdown",
   "id": "eea14be7-063b-47a6-9d54-4cf3a962f6c1",
   "metadata": {},
   "source": [
    "In this notebook, Data Science Tools and Ecosystem are summarized."
   ]
  },
  {
   "cell_type": "markdown",
   "id": "811a5450-a180-4e60-bc69-fb70fb7fcb70",
   "metadata": {},
   "source": [
    "**Objectives:**\n",
    "\n",
    "* Create a Jupyter Notebook with markdown and code cells\n",
    "* List examples of languages, libraries and tools used in Data Science\n",
    "* Share your Jupyter Notebook publicly on GitHub\n",
    "* Evaluate notebooks submitted by your peers using the provided rubric\n",
    "* Demonstrate proficiency in Data Science toolkit knowledge\n",
    "\n"
   ]
  },
  {
   "cell_type": "markdown",
   "id": "92d01690-e19f-4e9c-8fd0-200536e76646",
   "metadata": {},
   "source": [
    "Some of the popular languages that Data Scientists use are:\n",
    "\n",
    "1. Python\n",
    "2. R\n",
    "3. Scala\n",
    "4. Julia"
   ]
  },
  {
   "cell_type": "markdown",
   "id": "01577d6a-df37-453b-99a7-165c124ca70e",
   "metadata": {},
   "source": [
    "Some of the commonly used libraries used by Data Scientists include:\n",
    "\n",
    "1. Numpy\n",
    "2. Pandas\n",
    "3. Scikit-learn"
   ]
  },
  {
   "cell_type": "markdown",
   "id": "f850263e-6926-4556-8815-7c6bf117f69b",
   "metadata": {},
   "source": [
    "|Data Science Tools|\n",
    "|------------------|\n",
    "| Anaconda         |\n",
    "| Jupyter Notebook |\n",
    "| Jupyter Lab      |\n",
    "| Spyder           |\n"
   ]
  },
  {
   "cell_type": "markdown",
   "id": "fa7119e5-a1d5-481c-bb1c-a50d19a74fbe",
   "metadata": {},
   "source": [
    "### Below are a few examples of evaluating arithmetic expressions in Python."
   ]
  },
  {
   "cell_type": "code",
   "execution_count": 1,
   "id": "760bb495-fb47-43bf-811e-c8f5019c5e0f",
   "metadata": {},
   "outputs": [
    {
     "data": {
      "text/plain": [
       "60"
      ]
     },
     "execution_count": 1,
     "metadata": {},
     "output_type": "execute_result"
    }
   ],
   "source": [
    "# This a simple arithmetic expression to multiply then add integers.\n",
    "(3*4)*5"
   ]
  },
  {
   "cell_type": "code",
   "execution_count": 3,
   "id": "ae3c90d2-b264-485e-b85a-e6b72eda7d97",
   "metadata": {},
   "outputs": [
    {
     "name": "stdout",
     "output_type": "stream",
     "text": [
      "3.33\n"
     ]
    }
   ],
   "source": [
    "# This will convert 200 minutes to hours by diving by 60.\n",
    "\n",
    "mins = 200\n",
    "\n",
    "hours = mins / 60\n",
    "\n",
    "print(round(hours, 2))"
   ]
  }
 ],
 "metadata": {
  "kernelspec": {
   "display_name": "Python 3 (ipykernel)",
   "language": "python",
   "name": "python3"
  },
  "language_info": {
   "codemirror_mode": {
    "name": "ipython",
    "version": 3
   },
   "file_extension": ".py",
   "mimetype": "text/x-python",
   "name": "python",
   "nbconvert_exporter": "python",
   "pygments_lexer": "ipython3",
   "version": "3.12.8"
  }
 },
 "nbformat": 4,
 "nbformat_minor": 5
}
